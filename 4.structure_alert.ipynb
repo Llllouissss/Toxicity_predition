{
 "cells": [
  {
   "cell_type": "code",
   "execution_count": 98,
   "id": "f6ad987e",
   "metadata": {},
   "outputs": [],
   "source": [
    "import numpy as np\n",
    "import torch\n",
    "import pandas as pd\n",
    "import torch.optim as optim\n",
    "from sklearn.model_selection import train_test_split\n",
    "# from torchsummary import summary\n",
    "from sklearn.metrics import f1_score\n",
    "import matplotlib.pyplot as plt\n",
    "from scipy.sparse import csr_matrix\n",
    "from sklearn.preprocessing import StandardScaler\n",
    "from sklearn.preprocessing import Normalizer\n",
    "from sklearn.decomposition import PCA\n",
    "from sklearn.metrics import f1_score\n",
    "import torch.nn as nn\n",
    "from sklearn.metrics import matthews_corrcoef\n",
    "import warnings\n",
    "from sklearn import metrics\n",
    "import torch.nn.init as init\n",
    "warnings.filterwarnings(\"ignore\")\n",
    "from rdkit import Chem\n",
    "from rdkit.Chem import AllChem\n",
    "from rdkit import DataStructs\n",
    "from scipy.stats import pearsonr\n",
    "from sklearn.linear_model import ElasticNetCV\n",
    "# from operator import itemgetter\n",
    "from sklearn.pipeline import Pipeline, FeatureUnion\n",
    "from sklearn import metrics\n",
    "\n",
    "from sklearn.pipeline import Pipeline\n",
    "from sklearn.utils import class_weight\n",
    "from sklearn.model_selection import train_test_split\n",
    "from sklearn.metrics import accuracy_score\n",
    "from catboost import CatBoostClassifier\n",
    "from sklearn.naive_bayes import GaussianNB\n",
    "# from scipy.stats import pointbiserialr\n",
    "from sklearn import preprocessing\n",
    "from sklearn.base import clone\n",
    "from rdkit import Chem\n",
    "from collections import defaultdict"
   ]
  },
  {
   "cell_type": "code",
   "execution_count": 103,
   "id": "29638604",
   "metadata": {},
   "outputs": [
    {
     "name": "stdout",
     "output_type": "stream",
     "text": [
      "1542 5968\n"
     ]
    }
   ],
   "source": [
    "df = pd.read_csv(\"data/train_raw_data.csv\",index_col=0)\n",
    "positive_indices = np.where(df[\"Toxicity\"] == 1)[0]\n",
    "negative_indices = np.where(df[\"Toxicity\"] == 0)[0]\n",
    "\n",
    "positive_samples = np.array(df[\"Inchi\"])[positive_indices]\n",
    "negative_samples = np.array(df[\"Inchi\"])[negative_indices]\n",
    "print(len(positive_indices),len(negative_indices))"
   ]
  },
  {
   "cell_type": "code",
   "execution_count": 106,
   "id": "98246eb5",
   "metadata": {},
   "outputs": [],
   "source": [
    "# 假設 toxic_mols 和 non_toxic_mols 是兩個分子的列表\n",
    "# 你需要用你自己的數據去初始化它們\n"
   ]
  },
  {
   "cell_type": "code",
   "execution_count": 113,
   "id": "5f09511f",
   "metadata": {},
   "outputs": [
    {
     "name": "stderr",
     "output_type": "stream",
     "text": [
      "[14:33:51] WARNING:  Problems/mismatches: Mobile-H( Hydrogens: Locations or number, Number; Charge(s): Do not match; Proton balance: Does not match)\n",
      "\n",
      "[14:33:51] WARNING:  Problems/mismatches: Mobile-H( Hydrogens: Locations or number; Mobile-H groups: Missing, Attachment points)\n",
      "\n",
      "[14:33:51] WARNING: not removing hydrogen atom without neighbors\n",
      "[14:33:51] WARNING: not removing hydrogen atom without neighbors\n"
     ]
    },
    {
     "name": "stdout",
     "output_type": "stream",
     "text": [
      "3\n"
     ]
    }
   ],
   "source": [
    "from rdkit import Chem\n",
    "from rdkit.Chem import rdFMCS\n",
    "from collections import defaultdict\n",
    "\n",
    "# Get ring substructures of a given size from a molecule\n",
    "def get_ring_substructs(mol, min_size=3, max_size=15):\n",
    "    ring_substructs = []\n",
    "    for size in range(min_size, max_size+1):\n",
    "        ssr = Chem.GetSymmSSSR(mol)\n",
    "        for ring in ssr:\n",
    "            if len(ring) == size:\n",
    "                ring_substructs.append(Chem.MolFragmentToSmiles(mol, ring, canonical=True))\n",
    "    return ring_substructs\n",
    "tox_freq = defaultdict(list)\n",
    "# Count frequency of each substructure in a list of molecules\n",
    "def count_substructs(mols):\n",
    "    substruct_freq = defaultdict(int)\n",
    "    for mol in mols:\n",
    "        for substruct in get_ring_substructs(mol):\n",
    "            substruct_freq[substruct] += 1\n",
    "            tox_freq[substruct].append(mol)\n",
    "    return substruct_freq\n",
    "\n",
    "# Get substructures that appear in toxic mols but not in non-toxic mols\n",
    "def get_toxic_specific_substructs(toxic_mols, non_toxic_mols, min_freq=5):\n",
    "    toxic_substruct_freq = count_substructs(toxic_mols)\n",
    "    non_toxic_substruct_freq = count_substructs(non_toxic_mols)\n",
    "    toxic_specific_substructs = {s for s, f in toxic_substruct_freq.items() if f >= min_freq and s not in non_toxic_substruct_freq}\n",
    "    return toxic_specific_substructs\n",
    "\n",
    "# Find toxic-specific substructures in your datasets\n",
    "toxic_mols = [Chem.MolFromInchi(inchi) for inchi in positive_samples]\n",
    "non_toxic_mols = [Chem.MolFromInchi(inchi) for inchi in negative_samples]\n",
    "toxic_specific_substructs = get_toxic_specific_substructs(toxic_mols, non_toxic_mols)\n",
    "\n",
    "print(len(toxic_specific_substructs))"
   ]
  },
  {
   "cell_type": "code",
   "execution_count": 114,
   "id": "8d811ca1",
   "metadata": {},
   "outputs": [
    {
     "data": {
      "text/plain": [
       "{'C1=CCOCC1', 'C1N=CCS1', 'C1ccSNC1'}"
      ]
     },
     "execution_count": 114,
     "metadata": {},
     "output_type": "execute_result"
    }
   ],
   "source": [
    "toxic_specific_substructs"
   ]
  },
  {
   "cell_type": "code",
   "execution_count": 115,
   "id": "084da9df",
   "metadata": {
    "scrolled": true
   },
   "outputs": [
    {
     "data": {
      "image/png": "[encoded data removed]",
      "text/plain": [
       "<IPython.core.display.Image object>"
      ]
     },
     "execution_count": 115,
     "metadata": {},
     "output_type": "execute_result"
    }
   ],
   "source": [
    "from rdkit.Chem import Draw\n",
    "\n",
    "# Convert SMILES to molecules\n",
    "toxic_substruct_mols = [Chem.MolFromSmiles(s) for s in toxic_specific_substructs]\n",
    "\n",
    "# Draw molecules\n",
    "img = Draw.MolsToGridImage(toxic_substruct_mols, molsPerRow=4, subImgSize=(200,200))\n",
    "img\n"
   ]
  },
  {
   "cell_type": "code",
   "execution_count": 116,
   "id": "6d4f94b4",
   "metadata": {},
   "outputs": [
    {
     "name": "stdout",
     "output_type": "stream",
     "text": [
      "C1ccSNC1 :\n",
      "CN1C(C(O)=Nc2ccccn2)C(=O)c2ccccc2S1(=O)=O\n",
      "CN1C(C(O)=Nc2ccccn2)C(=O)c2sccc2S1(=O)=O\n",
      "CN1C(C(O)=Nc2ccccn2)C(=O)c2sc(Cl)cc2S1(=O)=O\n",
      "Cc1cc(=NC(=O)C2C(=O)c3ccccc3S(=O)(=O)N2C)[nH]o1\n",
      "Cc1cnc(N=C(O)C2C(=O)c3ccccc3S(=O)(=O)N2C)s1\n",
      "C1=CCOCC1 :\n",
      "CCC(C)C1OC2(C=CC1C)CC1CC(CC=C(C)C(OC3CC(OC)C(OC4CC(OC)C(N=C(C)O)C(C)O4)C(C)O3)C(C)C=CC=C3COC4C(O)C(C)=CC(C(=O)O1)C34O)O2\n",
      "CCC(C)C1OC2(C=CC1C)CC1CC(CC=C(C)C(OC3CC(OC)C(OC4CC(OC)C(O)C(C)O4)C(C)O3)C(C)C=CC=C3COC4C(O)C(C)=CC(C(=O)O1)C34O)O2\n",
      "COC1CC(OC2C(C)OC(OC3C(C)=CCC4CC(CC5(C=CC(C)C(C6CCCCC6)O5)O4)OC(=O)C4C=C(C)C(O)C5OCC(=CC=CC3C)C45O)CC2OC)OC(C)C1O\n",
      "CCC(C)C1OC2(C=CC1C)CC1CC(CC=C(C)C(OC3CC(OC)C(OC4CC(OC)C(NC)C(C)O4)C(C)O3)C(C)C=CC=C3COC4C(O)C(C)=CC(C(=O)O1)C34O)O2.O=C(O)c1ccccc1\n",
      "C=C(C)C1C(=O)c2c3c(cc4c5c(n1c24)C1(C)C(CCC2C(C)(C=CC=C(C)C(=O)O)C(O)CCC21C)C5)C1=CC(C)(C)OC(C)(C)C1C3O\n",
      "C1N=CCS1 :\n",
      "Cc1c(C)c2c(c(C)c1O)CCC(C)(COc1ccc(CC3SC(=O)N=C3O)cc1)O2\n",
      "CN(CCOc1ccc(CC2SC(=O)N=C2O)cc1)c1ccccn1\n",
      "CC1(COc2ccc(CC3SC(=O)N=C3O)cc2)CCCCC1\n",
      "CN(CCOc1ccc(CC2SC(=O)N=C2O)cc1)c1ccccn1.O=C(O)C=CC(=O)O\n",
      "CCCCCOc1ccc(C2SC(=O)N=C2O)cc1OCC\n"
     ]
    }
   ],
   "source": [
    "final  = defaultdict(list)\n",
    "for atom in toxic_specific_substructs:\n",
    "    print(atom,\":\")\n",
    "    for structure in tox_freq[atom]:\n",
    "        print(Chem.MolToSmiles(structure))"
   ]
  },
  {
   "cell_type": "code",
   "execution_count": null,
   "id": "6de21683",
   "metadata": {},
   "outputs": [],
   "source": []
  },
  {
   "cell_type": "code",
   "execution_count": null,
   "id": "6ab80c04",
   "metadata": {},
   "outputs": [],
   "source": []
  },
  {
   "cell_type": "code",
   "execution_count": null,
   "id": "4ca1507e",
   "metadata": {
    "scrolled": true
   },
   "outputs": [],
   "source": []
  },
  {
   "cell_type": "code",
   "execution_count": null,
   "id": "73edbe0b",
   "metadata": {},
   "outputs": [],
   "source": []
  },
  {
   "cell_type": "code",
   "execution_count": 110,
   "id": "506276d8",
   "metadata": {},
   "outputs": [],
   "source": [
    "# def get_mols_with_substruct(mols, substructs):\n",
    "#     mols_with_substructs = defaultdict(list)\n",
    "#     for substruct in substructs:\n",
    "#         substruct_mol = Chem.MolFromSmiles(substruct)  # Convert the substructure to a RDKit mol object\n",
    "#         for i, mol in enumerate(mols):\n",
    "#             if mol.HasSubstructMatch(substruct_mol):  # Check if the molecule contains the substructure\n",
    "#                 mols_with_substructs[substruct].append(i)  # If so, add the molecule to the list\n",
    "#     return mols_with_substructs\n",
    "\n",
    "# # Use the function on your toxic mols\n",
    "# x = [Chem.MolFromInchi(s) for s in positive_samples]\n",
    "# toxic_mols_with_substructs = get_mols_with_substruct(x, toxic_specific_substructs)\n"
   ]
  },
  {
   "cell_type": "code",
   "execution_count": 111,
   "id": "36a0ff17",
   "metadata": {},
   "outputs": [],
   "source": [
    "# toxic_mols_with_substructs"
   ]
  },
  {
   "cell_type": "code",
   "execution_count": 112,
   "id": "5ecf0372",
   "metadata": {},
   "outputs": [],
   "source": [
    "# for i, mol in enumerate(x):\n",
    "#     if mol.HasSubstructMatch(Chem.MolFromSmiles('C1ccSNC1')):  # Check if the molecule contains the substructure\n",
    "#         print(i)"
   ]
  },
  {
   "cell_type": "code",
   "execution_count": null,
   "id": "f8a28dd1",
   "metadata": {},
   "outputs": [],
   "source": []
  },
  {
   "cell_type": "code",
   "execution_count": null,
   "id": "e200ac81",
   "metadata": {},
   "outputs": [],
   "source": []
  },
  {
   "cell_type": "code",
   "execution_count": null,
   "id": "df3395fd",
   "metadata": {},
   "outputs": [],
   "source": []
  }
 ],
 "metadata": {
  "kernelspec": {
   "display_name": "Python 3 (ipykernel)",
   "language": "python",
   "name": "python3"
  },
  "language_info": {
   "codemirror_mode": {
    "name": "ipython",
    "version": 3
   },
   "file_extension": ".py",
   "mimetype": "text/x-python",
   "name": "python",
   "nbconvert_exporter": "python",
   "pygments_lexer": "ipython3",
   "version": "3.10.10"
  }
 },
 "nbformat": 4,
 "nbformat_minor": 5
}
