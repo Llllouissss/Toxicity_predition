{
 "cells": [
  {
   "cell_type": "code",
   "execution_count": 25,
   "id": "553a7bd6",
   "metadata": {},
   "outputs": [],
   "source": [
    "import pandas as pd\n",
    "import numpy as np \n",
    "from rdkit import Chem\n",
    "from rdkit.Chem import AllChem\n",
    "from sklearn import datasets, metrics\n",
    "from sklearn.model_selection import train_test_split\n",
    "from sklearn.metrics import accuracy_score\n",
    "from sklearn.ensemble import RandomForestClassifier\n",
    "import lightgbm as lgb\n",
    "from catboost import CatBoostRegressor,CatBoostClassifier\n",
    "from sklearn.tree import DecisionTreeClassifier\n",
    "import matplotlib.pyplot as plt\n",
    "import math\n",
    "from rdkit.Chem import Descriptors\n",
    "from rdkit import Chem\n",
    "from mordred import Calculator,descriptors\n",
    "import mordred\n",
    "import rdkit\n",
    "from rdkit import DataStructs"
   ]
  },
  {
   "cell_type": "code",
   "execution_count": 18,
   "id": "6c278c1d",
   "metadata": {},
   "outputs": [
    {
     "data": {
      "text/html": [
       "<div>\n",
       "<style scoped>\n",
       "    .dataframe tbody tr th:only-of-type {\n",
       "        vertical-align: middle;\n",
       "    }\n",
       "\n",
       "    .dataframe tbody tr th {\n",
       "        vertical-align: top;\n",
       "    }\n",
       "\n",
       "    .dataframe thead th {\n",
       "        text-align: right;\n",
       "    }\n",
       "</style>\n",
       "<table border=\"1\" class=\"dataframe\">\n",
       "  <thead>\n",
       "    <tr style=\"text-align: right;\">\n",
       "      <th></th>\n",
       "      <th>Inchi</th>\n",
       "      <th>Toxicity</th>\n",
       "      <th>Mol</th>\n",
       "    </tr>\n",
       "  </thead>\n",
       "  <tbody>\n",
       "    <tr>\n",
       "      <th>0</th>\n",
       "      <td>InChI=1S/C10H19N5S/c1-6(2)11-8-13-9(12-7(3)4)1...</td>\n",
       "      <td>0</td>\n",
       "      <td>&lt;rdkit.Chem.rdchem.Mol object at 0x131179e00&gt;</td>\n",
       "    </tr>\n",
       "    <tr>\n",
       "      <th>1</th>\n",
       "      <td>InChI=1S/C12H10O4/c13-11(14)7-5-9-1-2-10(4-3-9...</td>\n",
       "      <td>0</td>\n",
       "      <td>&lt;rdkit.Chem.rdchem.Mol object at 0x131179af0&gt;</td>\n",
       "    </tr>\n",
       "    <tr>\n",
       "      <th>2</th>\n",
       "      <td>InChI=1S/C12H16O/c13-12-9-5-4-8-11(12)10-6-2-1...</td>\n",
       "      <td>0</td>\n",
       "      <td>&lt;rdkit.Chem.rdchem.Mol object at 0x131179e70&gt;</td>\n",
       "    </tr>\n",
       "    <tr>\n",
       "      <th>3</th>\n",
       "      <td>InChI=1S/C10H20O/c1-2-3-4-5-6-7-8-10-9-11-10/h...</td>\n",
       "      <td>0</td>\n",
       "      <td>&lt;rdkit.Chem.rdchem.Mol object at 0x131179ee0&gt;</td>\n",
       "    </tr>\n",
       "    <tr>\n",
       "      <th>4</th>\n",
       "      <td>InChI=1S/C16H13ClN2O/c1-19-14-8-7-12(17)9-13(1...</td>\n",
       "      <td>0</td>\n",
       "      <td>&lt;rdkit.Chem.rdchem.Mol object at 0x131179f50&gt;</td>\n",
       "    </tr>\n",
       "    <tr>\n",
       "      <th>...</th>\n",
       "      <td>...</td>\n",
       "      <td>...</td>\n",
       "      <td>...</td>\n",
       "    </tr>\n",
       "    <tr>\n",
       "      <th>7508</th>\n",
       "      <td>InChI=1S/C16H15F3N2O4/c1-8-12(15(22)25-3)13(14...</td>\n",
       "      <td>1</td>\n",
       "      <td>&lt;rdkit.Chem.rdchem.Mol object at 0x130a90eb0&gt;</td>\n",
       "    </tr>\n",
       "    <tr>\n",
       "      <th>7509</th>\n",
       "      <td>InChI=1S/C26H25NO4/c28-18-8-7-15-11-20-26(29)1...</td>\n",
       "      <td>1</td>\n",
       "      <td>&lt;rdkit.Chem.rdchem.Mol object at 0x130a90f20&gt;</td>\n",
       "    </tr>\n",
       "    <tr>\n",
       "      <th>7510</th>\n",
       "      <td>InChI=1S/C15H14N2O/c1-9-7-10(2)16-14(9)8-12-11...</td>\n",
       "      <td>1</td>\n",
       "      <td>&lt;rdkit.Chem.rdchem.Mol object at 0x130a90f90&gt;</td>\n",
       "    </tr>\n",
       "    <tr>\n",
       "      <th>7511</th>\n",
       "      <td>InChI=1S/C24H34N4O5S/c1-4-21-17(3)15-28(22(21)...</td>\n",
       "      <td>1</td>\n",
       "      <td>&lt;rdkit.Chem.rdchem.Mol object at 0x130a91000&gt;</td>\n",
       "    </tr>\n",
       "    <tr>\n",
       "      <th>7512</th>\n",
       "      <td>InChI=1S/C25H31F3O5S/c1-5-20(31)33-25(21(32)34...</td>\n",
       "      <td>1</td>\n",
       "      <td>&lt;rdkit.Chem.rdchem.Mol object at 0x130a91070&gt;</td>\n",
       "    </tr>\n",
       "  </tbody>\n",
       "</table>\n",
       "<p>7513 rows × 3 columns</p>\n",
       "</div>"
      ],
      "text/plain": [
       "                                                  Inchi  Toxicity  \\\n",
       "0     InChI=1S/C10H19N5S/c1-6(2)11-8-13-9(12-7(3)4)1...         0   \n",
       "1     InChI=1S/C12H10O4/c13-11(14)7-5-9-1-2-10(4-3-9...         0   \n",
       "2     InChI=1S/C12H16O/c13-12-9-5-4-8-11(12)10-6-2-1...         0   \n",
       "3     InChI=1S/C10H20O/c1-2-3-4-5-6-7-8-10-9-11-10/h...         0   \n",
       "4     InChI=1S/C16H13ClN2O/c1-19-14-8-7-12(17)9-13(1...         0   \n",
       "...                                                 ...       ...   \n",
       "7508  InChI=1S/C16H15F3N2O4/c1-8-12(15(22)25-3)13(14...         1   \n",
       "7509  InChI=1S/C26H25NO4/c28-18-8-7-15-11-20-26(29)1...         1   \n",
       "7510  InChI=1S/C15H14N2O/c1-9-7-10(2)16-14(9)8-12-11...         1   \n",
       "7511  InChI=1S/C24H34N4O5S/c1-4-21-17(3)15-28(22(21)...         1   \n",
       "7512  InChI=1S/C25H31F3O5S/c1-5-20(31)33-25(21(32)34...         1   \n",
       "\n",
       "                                                Mol  \n",
       "0     <rdkit.Chem.rdchem.Mol object at 0x131179e00>  \n",
       "1     <rdkit.Chem.rdchem.Mol object at 0x131179af0>  \n",
       "2     <rdkit.Chem.rdchem.Mol object at 0x131179e70>  \n",
       "3     <rdkit.Chem.rdchem.Mol object at 0x131179ee0>  \n",
       "4     <rdkit.Chem.rdchem.Mol object at 0x131179f50>  \n",
       "...                                             ...  \n",
       "7508  <rdkit.Chem.rdchem.Mol object at 0x130a90eb0>  \n",
       "7509  <rdkit.Chem.rdchem.Mol object at 0x130a90f20>  \n",
       "7510  <rdkit.Chem.rdchem.Mol object at 0x130a90f90>  \n",
       "7511  <rdkit.Chem.rdchem.Mol object at 0x130a91000>  \n",
       "7512  <rdkit.Chem.rdchem.Mol object at 0x130a91070>  \n",
       "\n",
       "[7513 rows x 3 columns]"
      ]
     },
     "execution_count": 18,
     "metadata": {},
     "output_type": "execute_result"
    }
   ],
   "source": [
    "data = pd.read_csv(\"data/train_raw_data.csv\",index_col=0)\n",
    "data"
   ]
  },
  {
   "cell_type": "code",
   "execution_count": 19,
   "id": "6339e0aa",
   "metadata": {},
   "outputs": [
    {
     "data": {
      "text/plain": [
       "Toxicity\n",
       "0    543\n",
       "1     71\n",
       "Name: count, dtype: int64"
      ]
     },
     "execution_count": 19,
     "metadata": {},
     "output_type": "execute_result"
    }
   ],
   "source": [
    "test = pd.read_csv(\"data/external_test_raw_data.csv\",index_col=0)\n",
    "test[\"Toxicity\"].value_counts()"
   ]
  },
  {
   "cell_type": "code",
   "execution_count": 20,
   "id": "46e3b2cc",
   "metadata": {},
   "outputs": [],
   "source": [
    "def All_Mordred_descriptors(data):\n",
    "    calc = Calculator(descriptors, ignore_3D=False)\n",
    "    df = calc.pandas(data)\n",
    "    return df"
   ]
  },
  {
   "cell_type": "code",
   "execution_count": null,
   "id": "61198bcc",
   "metadata": {},
   "outputs": [],
   "source": []
  },
  {
   "cell_type": "code",
   "execution_count": null,
   "id": "7458efc9",
   "metadata": {},
   "outputs": [],
   "source": []
  },
  {
   "cell_type": "code",
   "execution_count": 21,
   "id": "6accc33c",
   "metadata": {
    "scrolled": true
   },
   "outputs": [
    {
     "name": "stderr",
     "output_type": "stream",
     "text": [
      "[19:07:08] WARNING: not removing hydrogen atom without neighbors\n",
      "[19:07:08] Explicit valence for atom # 0 Cl, 5, is greater than permitted\n",
      "[19:07:08] ERROR: Explicit valence for atom # 0 Cl, 5, is greater than permitted\n",
      "\n"
     ]
    },
    {
     "name": "stdout",
     "output_type": "stream",
     "text": [
      "1322 : nan 0\n"
     ]
    },
    {
     "name": "stderr",
     "output_type": "stream",
     "text": [
      "[19:07:09] WARNING:  Problems/mismatches: Mobile-H( Hydrogens: Locations or number, Number; Charge(s): Do not match; Proton balance: Does not match)\n",
      "\n",
      "[19:07:09] Explicit valence for atom # 0 Cl, 3, is greater than permitted\n",
      "[19:07:09] ERROR: Explicit valence for atom # 0 Cl, 3, is greater than permitted\n",
      "\n"
     ]
    },
    {
     "name": "stdout",
     "output_type": "stream",
     "text": [
      "5624 : nan 0\n"
     ]
    },
    {
     "name": "stderr",
     "output_type": "stream",
     "text": [
      "[19:07:10] WARNING: not removing hydrogen atom without neighbors\n",
      "[19:07:10] WARNING: not removing hydrogen atom without neighbors\n",
      "[19:07:10] WARNING: not removing hydrogen atom without neighbors\n",
      "[19:07:10] Explicit valence for atom # 0 Cl, 5, is greater than permitted\n",
      "[19:07:10] ERROR: Explicit valence for atom # 0 Cl, 5, is greater than permitted\n",
      "\n",
      "[19:07:10] WARNING:  Problems/mismatches: Mobile-H( Hydrogens: Locations or number; Mobile-H groups: Missing, Attachment points)\n",
      "\n"
     ]
    },
    {
     "name": "stdout",
     "output_type": "stream",
     "text": [
      "6454 : nan 0\n"
     ]
    },
    {
     "name": "stderr",
     "output_type": "stream",
     "text": [
      "[19:07:10] WARNING: not removing hydrogen atom without neighbors\n",
      "[19:07:10] WARNING: not removing hydrogen atom without neighbors\n"
     ]
    }
   ],
   "source": [
    "\n",
    "for i in range(len(data)):\n",
    "    inchi = Chem.MolFromInchi(data[\"Inchi\"][i])\n",
    "    if inchi == None:\n",
    "        print(i,\":\",data[\"Mol\"][i],data[\"Toxicity\"][i] )\n",
    "        data.drop(index = i,inplace=True,axis=0)\n",
    "#     else:\n",
    "#         mol_list.append(All_Mordred_descriptors(inchi))\n",
    "data.reset_index(inplace=True)\n",
    "data.drop(\"index\",axis = 1,inplace=True)"
   ]
  },
  {
   "cell_type": "code",
   "execution_count": 22,
   "id": "ebd55946",
   "metadata": {},
   "outputs": [
    {
     "data": {
      "text/html": [
       "<div>\n",
       "<style scoped>\n",
       "    .dataframe tbody tr th:only-of-type {\n",
       "        vertical-align: middle;\n",
       "    }\n",
       "\n",
       "    .dataframe tbody tr th {\n",
       "        vertical-align: top;\n",
       "    }\n",
       "\n",
       "    .dataframe thead th {\n",
       "        text-align: right;\n",
       "    }\n",
       "</style>\n",
       "<table border=\"1\" class=\"dataframe\">\n",
       "  <thead>\n",
       "    <tr style=\"text-align: right;\">\n",
       "      <th></th>\n",
       "      <th>Inchi</th>\n",
       "      <th>Toxicity</th>\n",
       "      <th>Mol</th>\n",
       "    </tr>\n",
       "  </thead>\n",
       "  <tbody>\n",
       "    <tr>\n",
       "      <th>0</th>\n",
       "      <td>InChI=1S/C10H19N5S/c1-6(2)11-8-13-9(12-7(3)4)1...</td>\n",
       "      <td>0</td>\n",
       "      <td>&lt;rdkit.Chem.rdchem.Mol object at 0x131179e00&gt;</td>\n",
       "    </tr>\n",
       "    <tr>\n",
       "      <th>1</th>\n",
       "      <td>InChI=1S/C12H10O4/c13-11(14)7-5-9-1-2-10(4-3-9...</td>\n",
       "      <td>0</td>\n",
       "      <td>&lt;rdkit.Chem.rdchem.Mol object at 0x131179af0&gt;</td>\n",
       "    </tr>\n",
       "    <tr>\n",
       "      <th>2</th>\n",
       "      <td>InChI=1S/C12H16O/c13-12-9-5-4-8-11(12)10-6-2-1...</td>\n",
       "      <td>0</td>\n",
       "      <td>&lt;rdkit.Chem.rdchem.Mol object at 0x131179e70&gt;</td>\n",
       "    </tr>\n",
       "    <tr>\n",
       "      <th>3</th>\n",
       "      <td>InChI=1S/C10H20O/c1-2-3-4-5-6-7-8-10-9-11-10/h...</td>\n",
       "      <td>0</td>\n",
       "      <td>&lt;rdkit.Chem.rdchem.Mol object at 0x131179ee0&gt;</td>\n",
       "    </tr>\n",
       "    <tr>\n",
       "      <th>4</th>\n",
       "      <td>InChI=1S/C16H13ClN2O/c1-19-14-8-7-12(17)9-13(1...</td>\n",
       "      <td>0</td>\n",
       "      <td>&lt;rdkit.Chem.rdchem.Mol object at 0x131179f50&gt;</td>\n",
       "    </tr>\n",
       "    <tr>\n",
       "      <th>...</th>\n",
       "      <td>...</td>\n",
       "      <td>...</td>\n",
       "      <td>...</td>\n",
       "    </tr>\n",
       "    <tr>\n",
       "      <th>7505</th>\n",
       "      <td>InChI=1S/C16H15F3N2O4/c1-8-12(15(22)25-3)13(14...</td>\n",
       "      <td>1</td>\n",
       "      <td>&lt;rdkit.Chem.rdchem.Mol object at 0x130a90eb0&gt;</td>\n",
       "    </tr>\n",
       "    <tr>\n",
       "      <th>7506</th>\n",
       "      <td>InChI=1S/C26H25NO4/c28-18-8-7-15-11-20-26(29)1...</td>\n",
       "      <td>1</td>\n",
       "      <td>&lt;rdkit.Chem.rdchem.Mol object at 0x130a90f20&gt;</td>\n",
       "    </tr>\n",
       "    <tr>\n",
       "      <th>7507</th>\n",
       "      <td>InChI=1S/C15H14N2O/c1-9-7-10(2)16-14(9)8-12-11...</td>\n",
       "      <td>1</td>\n",
       "      <td>&lt;rdkit.Chem.rdchem.Mol object at 0x130a90f90&gt;</td>\n",
       "    </tr>\n",
       "    <tr>\n",
       "      <th>7508</th>\n",
       "      <td>InChI=1S/C24H34N4O5S/c1-4-21-17(3)15-28(22(21)...</td>\n",
       "      <td>1</td>\n",
       "      <td>&lt;rdkit.Chem.rdchem.Mol object at 0x130a91000&gt;</td>\n",
       "    </tr>\n",
       "    <tr>\n",
       "      <th>7509</th>\n",
       "      <td>InChI=1S/C25H31F3O5S/c1-5-20(31)33-25(21(32)34...</td>\n",
       "      <td>1</td>\n",
       "      <td>&lt;rdkit.Chem.rdchem.Mol object at 0x130a91070&gt;</td>\n",
       "    </tr>\n",
       "  </tbody>\n",
       "</table>\n",
       "<p>7510 rows × 3 columns</p>\n",
       "</div>"
      ],
      "text/plain": [
       "                                                  Inchi  Toxicity  \\\n",
       "0     InChI=1S/C10H19N5S/c1-6(2)11-8-13-9(12-7(3)4)1...         0   \n",
       "1     InChI=1S/C12H10O4/c13-11(14)7-5-9-1-2-10(4-3-9...         0   \n",
       "2     InChI=1S/C12H16O/c13-12-9-5-4-8-11(12)10-6-2-1...         0   \n",
       "3     InChI=1S/C10H20O/c1-2-3-4-5-6-7-8-10-9-11-10/h...         0   \n",
       "4     InChI=1S/C16H13ClN2O/c1-19-14-8-7-12(17)9-13(1...         0   \n",
       "...                                                 ...       ...   \n",
       "7505  InChI=1S/C16H15F3N2O4/c1-8-12(15(22)25-3)13(14...         1   \n",
       "7506  InChI=1S/C26H25NO4/c28-18-8-7-15-11-20-26(29)1...         1   \n",
       "7507  InChI=1S/C15H14N2O/c1-9-7-10(2)16-14(9)8-12-11...         1   \n",
       "7508  InChI=1S/C24H34N4O5S/c1-4-21-17(3)15-28(22(21)...         1   \n",
       "7509  InChI=1S/C25H31F3O5S/c1-5-20(31)33-25(21(32)34...         1   \n",
       "\n",
       "                                                Mol  \n",
       "0     <rdkit.Chem.rdchem.Mol object at 0x131179e00>  \n",
       "1     <rdkit.Chem.rdchem.Mol object at 0x131179af0>  \n",
       "2     <rdkit.Chem.rdchem.Mol object at 0x131179e70>  \n",
       "3     <rdkit.Chem.rdchem.Mol object at 0x131179ee0>  \n",
       "4     <rdkit.Chem.rdchem.Mol object at 0x131179f50>  \n",
       "...                                             ...  \n",
       "7505  <rdkit.Chem.rdchem.Mol object at 0x130a90eb0>  \n",
       "7506  <rdkit.Chem.rdchem.Mol object at 0x130a90f20>  \n",
       "7507  <rdkit.Chem.rdchem.Mol object at 0x130a90f90>  \n",
       "7508  <rdkit.Chem.rdchem.Mol object at 0x130a91000>  \n",
       "7509  <rdkit.Chem.rdchem.Mol object at 0x130a91070>  \n",
       "\n",
       "[7510 rows x 3 columns]"
      ]
     },
     "execution_count": 22,
     "metadata": {},
     "output_type": "execute_result"
    }
   ],
   "source": [
    "data"
   ]
  },
  {
   "cell_type": "code",
   "execution_count": 23,
   "id": "71ae37ef",
   "metadata": {},
   "outputs": [],
   "source": [
    "for i in range(len(test)):\n",
    "    inchi = Chem.MolFromInchi(test[\"Inchi\"][i])\n",
    "    if inchi == None:\n",
    "        print(i,\":\",test[\"Mol\"][i],test[\"Toxicity\"][i] )\n",
    "        data.drop(index = i,inplace=True,axis=0)\n",
    "#     else:\n",
    "#         mol_list.append(All_Mordred_descriptors(inchi))\n",
    "test.reset_index(inplace=True)\n",
    "test.drop(\"index\",axis = 1,inplace=True)"
   ]
  },
  {
   "cell_type": "code",
   "execution_count": 24,
   "id": "bc383b4a",
   "metadata": {
    "scrolled": true
   },
   "outputs": [
    {
     "name": "stderr",
     "output_type": "stream",
     "text": [
      "[19:08:45] WARNING:  Problems/mismatches: Mobile-H( Hydrogens: Locations or number, Number; Charge(s): Do not match; Proton balance: Does not match)\n",
      "\n",
      "[19:08:46] WARNING:  Problems/mismatches: Mobile-H( Hydrogens: Locations or number; Mobile-H groups: Missing, Attachment points)\n",
      "\n",
      "[19:08:46] WARNING: not removing hydrogen atom without neighbors\n",
      "[19:08:46] WARNING: not removing hydrogen atom without neighbors\n",
      "  2%|▊                                         | 153/7510 [00:13<07:19, 16.74it/s]"
     ]
    },
    {
     "name": "stdout",
     "output_type": "stream",
     "text": [
      "/Users/linyuheng/miniforge3/lib/python3.10/site-packages/numpy/core/fromnumeric.py:86: RuntimeWarning: overflow encountered in reduce\n",
      "  return ufunc.reduce(obj, axis, dtype, out, **passkwargs)\n"
     ]
    },
    {
     "name": "stderr",
     "output_type": "stream",
     "text": [
      "  3%|█▏                                        | 211/7510 [00:19<12:26,  9.77it/s]"
     ]
    },
    {
     "name": "stdout",
     "output_type": "stream",
     "text": [
      "/Users/linyuheng/miniforge3/lib/python3.10/site-packages/numpy/core/fromnumeric.py:86: RuntimeWarning: overflow encountered in reduce\n",
      "  return ufunc.reduce(obj, axis, dtype, out, **passkwargs)\n"
     ]
    },
    {
     "name": "stderr",
     "output_type": "stream",
     "text": [
      "  4%|█▌                                        | 277/7510 [00:23<07:23, 16.31it/s]"
     ]
    },
    {
     "name": "stdout",
     "output_type": "stream",
     "text": [
      "/Users/linyuheng/miniforge3/lib/python3.10/site-packages/numpy/core/fromnumeric.py:86: RuntimeWarning: overflow encountered in reduce\n",
      "  return ufunc.reduce(obj, axis, dtype, out, **passkwargs)\n"
     ]
    },
    {
     "name": "stderr",
     "output_type": "stream",
     "text": [
      "  4%|█▋                                        | 303/7510 [00:27<13:07,  9.15it/s]"
     ]
    },
    {
     "name": "stdout",
     "output_type": "stream",
     "text": [
      "/Users/linyuheng/miniforge3/lib/python3.10/site-packages/numpy/core/fromnumeric.py:86: RuntimeWarning: overflow encountered in reduce\n",
      "  return ufunc.reduce(obj, axis, dtype, out, **passkwargs)\n"
     ]
    },
    {
     "name": "stderr",
     "output_type": "stream",
     "text": [
      "  4%|█▋                                        | 308/7510 [00:28<16:00,  7.49it/s]"
     ]
    },
    {
     "name": "stdout",
     "output_type": "stream",
     "text": [
      "/Users/linyuheng/miniforge3/lib/python3.10/site-packages/numpy/core/fromnumeric.py:86: RuntimeWarning: overflow encountered in reduce\n",
      "  return ufunc.reduce(obj, axis, dtype, out, **passkwargs)\n"
     ]
    },
    {
     "name": "stderr",
     "output_type": "stream",
     "text": [
      "  5%|██▏                                       | 391/7510 [00:34<12:41,  9.35it/s]"
     ]
    },
    {
     "name": "stdout",
     "output_type": "stream",
     "text": [
      "/Users/linyuheng/miniforge3/lib/python3.10/site-packages/numpy/core/fromnumeric.py:86: RuntimeWarning: overflow encountered in reduce\n",
      "  return ufunc.reduce(obj, axis, dtype, out, **passkwargs)\n"
     ]
    },
    {
     "name": "stderr",
     "output_type": "stream",
     "text": [
      " 13%|█████▎                                    | 956/7510 [01:16<06:21, 17.19it/s]"
     ]
    },
    {
     "name": "stdout",
     "output_type": "stream",
     "text": [
      "/Users/linyuheng/miniforge3/lib/python3.10/site-packages/numpy/core/fromnumeric.py:86: RuntimeWarning: overflow encountered in reduce\n",
      "  return ufunc.reduce(obj, axis, dtype, out, **passkwargs)\n"
     ]
    },
    {
     "name": "stderr",
     "output_type": "stream",
     "text": [
      " 15%|██████▏                                  | 1143/7510 [01:31<16:57,  6.26it/s]"
     ]
    },
    {
     "name": "stdout",
     "output_type": "stream",
     "text": [
      "/Users/linyuheng/miniforge3/lib/python3.10/site-packages/numpy/core/fromnumeric.py:86: RuntimeWarning: overflow encountered in reduce\n",
      "  return ufunc.reduce(obj, axis, dtype, out, **passkwargs)\n"
     ]
    },
    {
     "name": "stderr",
     "output_type": "stream",
     "text": [
      " 75%|██████████████████████████████▋          | 5623/7510 [08:06<28:45,  1.09it/s]"
     ]
    },
    {
     "name": "stdout",
     "output_type": "stream",
     "text": [
      "/Users/linyuheng/miniforge3/lib/python3.10/site-packages/mordred/_matrix_attributes.py:251: RuntimeWarning: invalid value encountered in scalar power\n",
      "  s += (eig.vec[i, eig.max] * eig.vec[j, eig.max]) ** -0.5\n"
     ]
    },
    {
     "name": "stderr",
     "output_type": "stream",
     "text": [
      " 81%|█████████████████████████████████▏       | 6082/7510 [10:27<17:46,  1.34it/s]"
     ]
    },
    {
     "name": "stdout",
     "output_type": "stream",
     "text": [
      "/Users/linyuheng/miniforge3/lib/python3.10/site-packages/mordred/_matrix_attributes.py:251: RuntimeWarning: invalid value encountered in scalar power\n",
      "  s += (eig.vec[i, eig.max] * eig.vec[j, eig.max]) ** -0.5\n"
     ]
    },
    {
     "name": "stderr",
     "output_type": "stream",
     "text": [
      " 97%|███████████████████████████████████████▊ | 7303/7510 [14:04<00:16, 12.44it/s][19:22:52] WARNING: not removing hydrogen atom without neighbors\n",
      "[19:22:52] WARNING: not removing hydrogen atom without neighbors\n",
      "[19:22:52] WARNING: not removing hydrogen atom without neighbors\n",
      "[19:22:52] WARNING: not removing hydrogen atom without neighbors\n",
      "[19:22:52] WARNING: not removing hydrogen atom without neighbors\n",
      "[19:22:52] WARNING: not removing hydrogen atom without neighbors\n",
      "100%|█████████████████████████████████████████| 7510/7510 [14:26<00:00,  8.67it/s]\n",
      " 29%|████████████▋                              | 181/614 [00:14<00:26, 16.08it/s]"
     ]
    },
    {
     "name": "stdout",
     "output_type": "stream",
     "text": [
      "/Users/linyuheng/miniforge3/lib/python3.10/site-packages/numpy/core/fromnumeric.py:86: RuntimeWarning: overflow encountered in reduce\n",
      "  return ufunc.reduce(obj, axis, dtype, out, **passkwargs)\n"
     ]
    },
    {
     "name": "stderr",
     "output_type": "stream",
     "text": [
      " 53%|██████████████████████▌                    | 323/614 [00:30<00:18, 15.71it/s]"
     ]
    },
    {
     "name": "stdout",
     "output_type": "stream",
     "text": [
      "/Users/linyuheng/miniforge3/lib/python3.10/site-packages/numpy/core/fromnumeric.py:86: RuntimeWarning: overflow encountered in reduce\n",
      "  return ufunc.reduce(obj, axis, dtype, out, **passkwargs)\n"
     ]
    },
    {
     "name": "stderr",
     "output_type": "stream",
     "text": [
      "100%|███████████████████████████████████████████| 614/614 [00:53<00:00, 11.49it/s]\n"
     ]
    }
   ],
   "source": [
    "mordred_data = All_Mordred_descriptors([Chem.MolFromInchi(i) for i in data[\"Inchi\"]])\n",
    "mordred_test = All_Mordred_descriptors([Chem.MolFromInchi(i) for i in test[\"Inchi\"]])\n",
    "mordred_data[\"Toxicity\"] = data[\"Toxicity\"]\n",
    "mordred_test[\"Toxicity\"] = test[\"Toxicity\"]"
   ]
  },
  {
   "cell_type": "code",
   "execution_count": 26,
   "id": "9bb14df7",
   "metadata": {},
   "outputs": [
    {
     "name": "stderr",
     "output_type": "stream",
     "text": [
      "[19:24:13] WARNING:  Problems/mismatches: Mobile-H( Hydrogens: Locations or number, Number; Charge(s): Do not match; Proton balance: Does not match)\n",
      "\n",
      "[19:24:15] WARNING:  Problems/mismatches: Mobile-H( Hydrogens: Locations or number; Mobile-H groups: Missing, Attachment points)\n",
      "\n",
      "[19:24:15] WARNING: not removing hydrogen atom without neighbors\n",
      "[19:24:15] WARNING: not removing hydrogen atom without neighbors\n"
     ]
    }
   ],
   "source": [
    "#morgan\n",
    "fingerprints = []\n",
    "for x in data[\"Inchi\"]:\n",
    "    mol = Chem.MolFromInchi(x)\n",
    "    fp = AllChem.GetMorganFingerprintAsBitVect(mol, 2, nBits=2048)\n",
    "    fp_arr = np.zeros((1,))\n",
    "    DataStructs.ConvertToNumpyArray(fp, fp_arr)\n",
    "    fp_arr = np.array([int(x) for x in fp_arr], dtype=np.float32)\n",
    "    fingerprints.append(fp_arr)\n",
    "morgan_data = pd.DataFrame(fingerprints)\n",
    "morgan_data[\"Toxicity\"] = data[\"Toxicity\"]"
   ]
  },
  {
   "cell_type": "code",
   "execution_count": 27,
   "id": "44f1c0d8",
   "metadata": {},
   "outputs": [],
   "source": [
    "fingerprints = []\n",
    "for x in test[\"Inchi\"]:\n",
    "    mol = Chem.MolFromInchi(x)\n",
    "    fp = AllChem.GetMorganFingerprintAsBitVect(mol, 2, nBits=2048)\n",
    "    fp_arr = np.zeros((1,))\n",
    "    DataStructs.ConvertToNumpyArray(fp, fp_arr)\n",
    "    fp_arr = np.array([int(x) for x in fp_arr], dtype=np.float32)\n",
    "    fingerprints.append(fp_arr)\n",
    "morgan_test = pd.DataFrame(fingerprints)\n",
    "morgan_test[\"Toxicity\"] = test[\"Toxicity\"]"
   ]
  },
  {
   "cell_type": "code",
   "execution_count": 29,
   "id": "e67acb74",
   "metadata": {},
   "outputs": [
    {
     "name": "stderr",
     "output_type": "stream",
     "text": [
      "[20:24:18] WARNING:  Problems/mismatches: Mobile-H( Hydrogens: Locations or number, Number; Charge(s): Do not match; Proton balance: Does not match)\n",
      "\n",
      "[20:24:21] WARNING:  Problems/mismatches: Mobile-H( Hydrogens: Locations or number; Mobile-H groups: Missing, Attachment points)\n",
      "\n",
      "[20:24:21] WARNING: not removing hydrogen atom without neighbors\n",
      "[20:24:21] WARNING: not removing hydrogen atom without neighbors\n"
     ]
    }
   ],
   "source": [
    "#macckey\n",
    "fingerprint_mac = []\n",
    "for x in data[\"Inchi\"]:\n",
    "    mol = Chem.MolFromInchi(x)\n",
    "    fp = AllChem.GetMACCSKeysFingerprint(mol)\n",
    "    fp_arr = np.zeros((1,))\n",
    "    DataStructs.ConvertToNumpyArray(fp, fp_arr)\n",
    "    fp_arr = np.array([int(x) for x in fp_arr], dtype=np.float32)\n",
    "    fingerprint_mac.append(fp_arr)\n",
    "mackey_data = pd.DataFrame(fingerprint_mac)\n",
    "mackey_data[\"Toxicity\"] = data[\"Toxicity\"]\n",
    "\n",
    "fingerprint_mac = []\n",
    "for x in test[\"Inchi\"]:\n",
    "    mol = Chem.MolFromInchi(x)\n",
    "    fp = AllChem.GetMACCSKeysFingerprint(mol)\n",
    "    fp_arr = np.zeros((1,))\n",
    "    DataStructs.ConvertToNumpyArray(fp, fp_arr)\n",
    "    fp_arr = np.array([int(x) for x in fp_arr], dtype=np.float32)\n",
    "    fingerprint_mac.append(fp_arr)\n",
    "mackey_test = pd.DataFrame(fingerprint_mac)\n",
    "mackey_test[\"Toxicity\"] = test[\"Toxicity\"]"
   ]
  },
  {
   "cell_type": "code",
   "execution_count": 31,
   "id": "ce14e84a",
   "metadata": {
    "scrolled": true
   },
   "outputs": [],
   "source": [
    "mordred_data.to_csv(\"data/mordred_data.csv\")\n",
    "mordred_test.to_csv(\"data/mordred_test.csv\")\n",
    "morgan_data.to_csv(\"data/morgan_data.csv\")\n",
    "morgan_test.to_csv(\"data/morgan_test.csv\")\n",
    "mackey_data.to_csv(\"data/mackey_data.csv\")\n",
    "mackey_test.to_csv(\"data/mackey_test.csv\")"
   ]
  },
  {
   "cell_type": "code",
   "execution_count": null,
   "id": "e05e5e83",
   "metadata": {},
   "outputs": [],
   "source": []
  },
  {
   "cell_type": "code",
   "execution_count": null,
   "id": "3e415579",
   "metadata": {},
   "outputs": [],
   "source": []
  },
  {
   "cell_type": "code",
   "execution_count": null,
   "id": "3b32668f",
   "metadata": {},
   "outputs": [],
   "source": []
  },
  {
   "cell_type": "code",
   "execution_count": null,
   "id": "76e8e410",
   "metadata": {},
   "outputs": [],
   "source": []
  },
  {
   "cell_type": "code",
   "execution_count": null,
   "id": "29782f35",
   "metadata": {},
   "outputs": [],
   "source": []
  }
 ],
 "metadata": {
  "kernelspec": {
   "display_name": "Python 3 (ipykernel)",
   "language": "python",
   "name": "python3"
  },
  "language_info": {
   "codemirror_mode": {
    "name": "ipython",
    "version": 3
   },
   "file_extension": ".py",
   "mimetype": "text/x-python",
   "name": "python",
   "nbconvert_exporter": "python",
   "pygments_lexer": "ipython3",
   "version": "3.10.10"
  }
 },
 "nbformat": 4,
 "nbformat_minor": 5
}
